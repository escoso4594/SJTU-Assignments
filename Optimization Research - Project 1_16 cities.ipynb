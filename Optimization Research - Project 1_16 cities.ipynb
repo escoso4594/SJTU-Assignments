{
 "cells": [
  {
   "cell_type": "markdown",
   "id": "8944e52b",
   "metadata": {},
   "source": [
    "# PROJECT - BUS ROUTE FOR 16 CITIES"
   ]
  },
  {
   "cell_type": "markdown",
   "id": "6681628e",
   "metadata": {},
   "source": [
    "#### An origin-destination 16x16 matrix represents the distance between 16 districts in the capital city of San Jose, Costa Rica. The objective is to find an optimized route that connects all the districts with the minimal distance. This solution is intended to be used as a new bus route that is needed in the east zone of the city.\n",
    "#### The task is modeled as a traveling salesman problem to be solved with: 1. PuLP, a linear programming method from Python. 2. Local search methods."
   ]
  },
  {
   "cell_type": "markdown",
   "id": "70478b6d",
   "metadata": {},
   "source": [
    "#### METHOD 1: LINEAR PROGRAMMING WITH PuLP"
   ]
  },
  {
   "cell_type": "code",
   "execution_count": 1,
   "id": "138411c4",
   "metadata": {},
   "outputs": [],
   "source": [
    "from pulp import *\n",
    "import pandas as pd"
   ]
  },
  {
   "cell_type": "code",
   "execution_count": 2,
   "id": "e5f1cdbf",
   "metadata": {},
   "outputs": [
    {
     "name": "stdout",
     "output_type": "stream",
     "text": [
      "[[0, 1, 3, 2, 4, 5, 6, 5, 9, 3, 3, 3, 8, 6, 7, 8], [1, 0, 2, 1, 5, 6, 5, 4, 8, 4, 4, 4, 9, 7, 8, 9], [3, 2, 0, 3, 7, 6, 7, 2, 6, 2, 2, 6, 11, 9, 10, 11], [2, 1, 3, 0, 4, 5, 6, 5, 9, 5, 5, 3, 8, 6, 7, 8], [4, 5, 7, 4, 0, 1, 10, 9, 13, 9, 9, 3, 8, 6, 7, 8], [5, 6, 6, 5, 1, 0, 10, 9, 12, 9, 8, 3, 8, 7, 7, 8], [6, 5, 7, 6, 10, 10, 0, 5, 9, 8, 9, 9, 14, 13, 13, 14], [5, 4, 2, 5, 9, 9, 5, 0, 4, 3, 4, 4, 10, 9, 9, 10], [9, 8, 6, 9, 13, 12, 9, 4, 0, 7, 8, 7, 13, 12, 12, 13], [3, 4, 2, 5, 9, 9, 8, 3, 7, 0, 3, 8, 13, 11, 12, 13], [3, 4, 2, 5, 9, 8, 9, 4, 8, 3, 0, 8, 13, 11, 12, 13], [3, 4, 6, 3, 3, 3, 9, 4, 7, 8, 8, 0, 5, 3, 4, 5], [8, 9, 11, 8, 8, 8, 14, 10, 13, 13, 13, 5, 0, 2, 9, 10], [6, 7, 9, 6, 6, 7, 13, 9, 12, 11, 11, 3, 2, 0, 7, 8], [7, 8, 10, 7, 7, 7, 13, 9, 12, 12, 12, 4, 9, 7, 0, 1], [8, 9, 11, 8, 8, 8, 14, 10, 13, 13, 13, 5, 10, 8, 1, 0]]\n"
     ]
    }
   ],
   "source": [
    "dfobj = pd.read_csv('C:\\\\Users\\\\estef\\\\OneDrive\\\\Escritorio\\\\Estudios\\\\China\\\\Clases\\\\Fall 2022\\\\Optimization Research\\\\Assignments\\\\ODMatrix.csv', delimiter=';', header=None)\n",
    "origin_destination_matrix = [list(row) for row in dfobj.values]\n",
    "print(origin_destination_matrix)"
   ]
  },
  {
   "cell_type": "code",
   "execution_count": 3,
   "id": "56cc8684",
   "metadata": {},
   "outputs": [
    {
     "name": "stdout",
     "output_type": "stream",
     "text": [
      "Cities:  16\n",
      "Indexes:  range(0, 16)\n"
     ]
    }
   ],
   "source": [
    "#Create variables with the parameters of the matrix to work with\n",
    "cities = len(origin_destination_matrix)\n",
    "indexes = range(cities)\n",
    "print(\"Cities: \", cities)\n",
    "print(\"Indexes: \", indexes)"
   ]
  },
  {
   "cell_type": "code",
   "execution_count": 4,
   "id": "8fcba9e8",
   "metadata": {},
   "outputs": [],
   "source": [
    "#Create a list of all the coordinates combinations of the matrix, excluding the center diagonal of 0's\n",
    "E = [(i,j) for i in indexes for j in indexes if i!=j]"
   ]
  },
  {
   "cell_type": "code",
   "execution_count": 5,
   "id": "fee8c042",
   "metadata": {},
   "outputs": [],
   "source": [
    "#Instruction for minimizing the problem\n",
    "m = LpProblem(\"TSP\",LpMinimize)"
   ]
  },
  {
   "cell_type": "code",
   "execution_count": 6,
   "id": "7ddedf6a",
   "metadata": {},
   "outputs": [],
   "source": [
    "#Create a dictionary of all coordinate pairs\n",
    "#Associate each pair with an X to assign 0 or 1 afterwards if the city will be chosen as part of the optimal route\n",
    "x = LpVariable.dicts('x',E,cat=LpBinary)"
   ]
  },
  {
   "cell_type": "code",
   "execution_count": 7,
   "id": "b2f6d9f2",
   "metadata": {},
   "outputs": [],
   "source": [
    "#Create the objective function of costs per each pair\n",
    "#The costs are the distances stated in the origin-destination matrix, excluding the diagonal\n",
    "m += sum([origin_destination_matrix[i][j]*x[(i,j)]for (i,j) in E])"
   ]
  },
  {
   "cell_type": "code",
   "execution_count": 8,
   "id": "23c3c83f",
   "metadata": {},
   "outputs": [],
   "source": [
    "#Create the constraints\n",
    "#It limits to a step size of 1, where from one origin, movement can only occur to one destination at a time\n",
    "#The function calculates each pair both back and forth \n",
    "for i in indexes:\n",
    "    m += sum([x[(i,j)] for j in indexes if i!=j]) == 1, \"One out of \"+str(i)\n",
    "    m += sum([x[(j,i)] for j in indexes if i!=j]) == 1, \"One in to \"+str(i)"
   ]
  },
  {
   "cell_type": "code",
   "execution_count": 9,
   "id": "f77979d9",
   "metadata": {},
   "outputs": [
    {
     "name": "stdout",
     "output_type": "stream",
     "text": [
      "- Optimal routes without eliminating subtours:\n",
      "Segments within route:  {(0, 1), (10, 9), (15, 14), (8, 7), (2, 10), (5, 4), (6, 8), (9, 2), (11, 3), (12, 13), (4, 5), (7, 6), (13, 12), (1, 0), (14, 15), (3, 11)}\n"
     ]
    }
   ],
   "source": [
    "#Instructions for preliminar solution of the system without adding the restriction of subtours\n",
    "m.solve()\n",
    "vobj = value(m.objective)\n",
    "xsol = {e:value(x[e]) for e in E}\n",
    "print(\"- Optimal routes without eliminating subtours:\")\n",
    "sol_summary={x for x,y in xsol.items() if y!=0}\n",
    "print(\"Segments within route: \", sol_summary)"
   ]
  },
  {
   "cell_type": "code",
   "execution_count": 10,
   "id": "acd18f55",
   "metadata": {},
   "outputs": [],
   "source": [
    "#Find successive cities that have the shortest path between them\n",
    "def subtour(xsol):\n",
    "    succ = 0\n",
    "    subt = [succ]\n",
    "    while True:\n",
    "        succ = sum(xsol[succ,j]*j for j in indexes if j!=succ)\n",
    "        if succ == 0: break\n",
    "        subt.append(int(succ))\n",
    "    return subt"
   ]
  },
  {
   "cell_type": "code",
   "execution_count": 11,
   "id": "b246b946",
   "metadata": {},
   "outputs": [
    {
     "name": "stdout",
     "output_type": "stream",
     "text": [
      "- Identify subtours\n",
      "Subtour found: [0, 1]\n",
      "- Identify subtours\n",
      "Subtour found: [0, 11]\n",
      "- Identify subtours\n",
      "Subtour found: [0, 6, 1]\n",
      "- Identify subtours\n",
      "Subtour found: [0, 1, 3, 11]\n",
      "- Identify subtours\n",
      "Subtour found: [0, 11, 3, 6, 1]\n",
      "- Identify subtours\n",
      "Subtour found: [0, 6, 1, 3]\n",
      "- Identify subtours\n",
      "Subtour found: [0, 1, 3]\n",
      "- Identify subtours\n",
      "Subtour found: [0, 11, 8, 7, 6, 1, 3]\n",
      "- Identify subtours\n",
      "Subtour found: [0, 10]\n",
      "- Identify subtours\n",
      "Subtour found: [0, 9]\n",
      "- Identify subtours\n",
      "Subtour found: [0, 9, 2, 10]\n",
      "- Identify subtours\n",
      "Subtour found: [0, 10, 9, 2, 1, 3, 11]\n",
      "- Identify subtours\n",
      "Subtour found: [0, 10, 9, 2, 3, 11]\n",
      "- Identify subtours\n",
      "Subtour found: [0, 10, 9, 2, 7, 8, 6, 1, 3, 11]\n",
      "- Identify subtours\n",
      "Subtour found: [0, 4, 5, 11, 3, 1]\n",
      "- Identify subtours\n",
      "Subtour found: [0, 10, 9, 2, 3, 1]\n",
      "- Identify subtours\n",
      "Subtour found: [0, 11, 5, 4, 3, 1, 6]\n",
      "- Identify subtours\n",
      "Subtour found: [0, 10, 9, 2, 6, 3, 1]\n",
      "- Identify subtours\n",
      "Subtour found: [0, 10, 9, 2, 7, 8, 6]\n",
      "- Identify subtours\n",
      "Subtour found: [0, 1, 3, 6, 8, 7, 9, 2, 10]\n",
      "- Identify subtours\n",
      "Subtour found: [0, 4, 5, 11, 8, 7, 6, 3, 1]\n",
      "- Identify subtours\n",
      "Subtour found: [0, 1, 6, 7, 8, 9]\n",
      "- Identify subtours\n",
      "Subtour found: [0, 1, 2, 9, 10]\n",
      "- Identify subtours\n",
      "Subtour found: [0, 10, 9, 2, 1, 3, 11, 5, 4]\n",
      "- Identify subtours\n",
      "Subtour found: [0, 10, 9, 2, 8, 7, 6, 1, 3, 4, 5, 11]\n",
      "- Identify subtours\n",
      "Subtour found: [0, 13, 12, 11, 3, 6, 1]\n",
      "- Identify subtours\n",
      "Subtour found: [0, 1, 3, 11, 12, 13]\n",
      "- Identify subtours\n",
      "Subtour found: [0, 13, 12, 11, 8, 7, 6, 3, 1]\n",
      "- Identify subtours\n",
      "Subtour found: [0, 5, 4, 3, 1]\n",
      "- Identify subtours\n",
      "Subtour found: [0, 5, 4]\n",
      "- Identify subtours\n",
      "Subtour found: [0, 10, 2, 9, 8, 7, 6, 1, 3, 11, 12, 13]\n",
      "- Identify subtours\n",
      "Subtour found: [0, 1, 3, 11, 14, 15]\n",
      "- Identify subtours\n",
      "Subtour found: [0, 11, 14, 15, 3, 6, 1]\n",
      "- Identify subtours\n",
      "Subtour found: [0, 6, 1, 3, 4, 5]\n",
      "- Identify subtours\n",
      "Subtour found: [0, 1, 3, 4, 5, 11, 13, 12]\n",
      "- Identify subtours\n",
      "Subtour found: [0, 11, 13, 12, 5, 4]\n",
      "- Identify subtours\n",
      "Subtour found: [0, 1, 3, 15, 14, 11, 8, 7, 6]\n",
      "- Identify subtours\n",
      "Subtour found: [0, 1, 6, 3, 4, 5, 11, 13, 12]\n",
      "- Identify subtours\n",
      "Subtour found: [0, 11, 15, 14, 3, 6, 1, 2, 10, 9]\n",
      "- Identify subtours\n",
      "Subtour found: [0, 10, 9, 2, 1, 3, 5, 4]\n",
      "- Identify subtours\n",
      "Subtour found: [0, 1, 3, 4, 5, 12, 13, 11, 8, 7, 6]\n",
      "- Identify subtours\n",
      "Subtour found: [0, 10, 9, 2, 8, 7, 6, 1]\n",
      "- Identify subtours\n",
      "Subtour found: [0, 10, 9, 2, 8, 7, 6, 1, 3, 5, 4]\n",
      "- Identify subtours\n",
      "Subtour found: [0, 11, 14, 15, 3, 1, 2, 10, 9]\n",
      "- Identify subtours\n",
      "Subtour found: [0, 10, 9, 2, 8, 7, 6, 1, 3, 11, 15, 14]\n",
      "- Identify subtours\n",
      "Subtour found: [0, 14, 15, 11, 5, 4, 3, 1]\n",
      "- Identify subtours\n",
      "Subtour found: [0, 10, 9, 2, 1, 3, 12, 13, 11, 5, 4]\n",
      "- Identify subtours\n",
      "Subtour found: [0, 10, 9, 2, 8, 7, 6, 1, 3, 4, 5, 11, 13, 12]\n",
      "- Identify subtours\n",
      "Subtour found: [0, 15, 14, 11, 5, 4]\n",
      "- Identify subtours\n",
      "Subtour found: [0, 15, 14, 11, 5, 4, 3, 6, 1]\n",
      "- Identify subtours\n",
      "Subtour found: [0, 4, 5, 15, 14, 11, 8, 7, 6, 3, 1]\n",
      "- Identify subtours\n",
      "Subtour found: [0, 10, 2, 9, 8, 7, 6, 1, 3, 4, 5, 11, 15, 14]\n",
      "- Identify subtours\n",
      "Subtour found: [0, 1, 3, 15, 14]\n",
      "- Identify subtours\n",
      "Subtour found: [0, 15, 14, 3, 6, 1]\n",
      "- Identify subtours\n",
      "Subtour found: [0, 14, 15, 13, 12, 11]\n",
      "- Identify subtours\n",
      "Subtour found: [0, 1, 3, 11, 13, 12, 15, 14]\n",
      "- Identify subtours\n",
      "Subtour found: [0, 6, 1, 3, 13, 12, 15, 14, 11]\n",
      "- Identify subtours\n",
      "Subtour found: [0, 1, 3, 13, 12, 15, 14, 11, 8, 7, 6]\n",
      "- Identify subtours\n",
      "Subtour found: [0, 10, 9, 2, 8, 7, 6, 1, 3, 13, 12, 15, 14, 11]\n",
      "- Identify subtours\n",
      "Subtour found: [0, 1, 3, 13, 12, 15, 14, 11, 5, 4]\n",
      "- Identify subtours\n",
      "Subtour found: [0, 13, 12, 14, 15, 11, 5, 4]\n",
      "- Identify subtours\n",
      "Subtour found: [0, 6, 1, 3, 15, 14, 5, 4]\n",
      "- Identify subtours\n",
      "Subtour found: [0, 4, 5, 11, 13, 12, 14, 15, 3, 6, 1]\n",
      "- Identify subtours\n",
      "Subtour found: [0, 4, 5, 14, 15, 12, 13, 11, 8, 7, 6, 1, 3]\n",
      "- Optimal tour excluding subtours\n",
      "Optimal tour found: [0, 10, 2, 9, 8, 7, 6, 1, 3, 13, 12, 14, 15, 11, 5, 4]\n",
      "Optimal tour length: 60\n"
     ]
    }
   ],
   "source": [
    "#Iterate the previous definition to find all possible short subtours\n",
    "#The function will add more nodes as it runs out of shorter routes\n",
    "while True:\n",
    "    subt = subtour(xsol)\n",
    "    if len(subt) == cities:\n",
    "        print(\"- Optimal tour excluding subtours\")\n",
    "        print(\"Optimal tour found: %r\"%subt)\n",
    "        print(\"Optimal tour length: %g\"%vobj)\n",
    "        break\n",
    "    print(\"- Identify subtours\")\n",
    "    print(\"Subtour found: %r\"%subt)\n",
    "    m += sum([x[(i,j)] for i in subt for j in subt if i!=j])<= len(subt)-1\n",
    "    m.solve()\n",
    "    vobj = value(m.objective)\n",
    "    xsol = {e: value(x[e]) for e in E}"
   ]
  },
  {
   "cell_type": "markdown",
   "id": "12dc4a1b",
   "metadata": {},
   "source": [
    "#### METHOD 2: LOCAL SEARCH"
   ]
  },
  {
   "cell_type": "code",
   "execution_count": 13,
   "id": "7ac7ebff",
   "metadata": {},
   "outputs": [],
   "source": [
    "#The vector is filled with zeros in increasing order\n",
    "def initial_solution(length):\n",
    "    solution = [0]*length\n",
    "    i = 0\n",
    "    while i < length:\n",
    "        solution[i] = i\n",
    "        i = i + 1\n",
    "    return solution"
   ]
  },
  {
   "cell_type": "code",
   "execution_count": 14,
   "id": "a936acfc",
   "metadata": {},
   "outputs": [],
   "source": [
    "#A new variable is created to store the most recent solution\n",
    "#vector before its order is updated in the iteration process\n",
    "def backup_solution(sol):\n",
    "    backsol = [0]*len(sol)\n",
    "    i = 0\n",
    "    while i < len(sol):\n",
    "        backsol[i] = sol[i]\n",
    "        i = i + 1\n",
    "    return backsol"
   ]
  },
  {
   "cell_type": "code",
   "execution_count": 15,
   "id": "f1ce130a",
   "metadata": {},
   "outputs": [],
   "source": [
    "#The function calculates the total length of the\n",
    "#tour, adding the distances indicated in the origin-destination \n",
    "#matrix. This is the target number to optimize when iterating \n",
    "#the arrangement of the solution vector.\n",
    "def tour_length(solution):\n",
    "    ans = 0\n",
    "    i = 0\n",
    "    while i < len(solution):\n",
    "        if i + 1 < len(solution):\n",
    "            ans = ans + origin_destination_matrix[solution[i]][solution[i+1]]\n",
    "        else:\n",
    "            ans = ans + origin_destination_matrix[solution[i]][solution[0]]\n",
    "        i = i + 1\n",
    "    return ans"
   ]
  },
  {
   "cell_type": "code",
   "execution_count": 16,
   "id": "93456c07",
   "metadata": {},
   "outputs": [],
   "source": [
    "#The values in the solution vector move one place. For instance,\n",
    "#The solution that was previously in place 1, will now be\n",
    "#located in place 2.\n",
    "def neighborhood(solution,location):\n",
    "    backsol = backup_solution(solution)\n",
    "    backindex = backsol[location]\n",
    "    if location + 1 < len(solution):\n",
    "        backsol[location] = backsol[location + 1]\n",
    "        backsol[location + 1] = backindex\n",
    "    else:\n",
    "        backsol[location] = backsol[0]\n",
    "        backsol[0] = backindex\n",
    "    return backsol"
   ]
  },
  {
   "cell_type": "code",
   "execution_count": 17,
   "id": "2835e6b2",
   "metadata": {},
   "outputs": [
    {
     "name": "stdout",
     "output_type": "stream",
     "text": [
      "initial solution : [0, 1, 2, 3, 4, 5, 6, 7, 8, 9, 10, 11, 12, 13, 14, 15]\n",
      "initial tour length:  71\n"
     ]
    }
   ],
   "source": [
    "#Create the variables that will store the final results\n",
    "#of the optimal route and minimal distance.\n",
    "size = len(origin_destination_matrix)\n",
    "seq = initial_solution(size)\n",
    "obj = tour_length(seq)\n",
    "print(\"initial solution :\",seq)\n",
    "print(\"initial tour length: \",obj)"
   ]
  },
  {
   "cell_type": "code",
   "execution_count": 18,
   "id": "3e009edd",
   "metadata": {},
   "outputs": [
    {
     "name": "stdout",
     "output_type": "stream",
     "text": [
      "-------------------------------------\n",
      "iter:  1\n",
      "no better neighborhood solution is found\n"
     ]
    }
   ],
   "source": [
    "#Iteration for the optimal order of the nodes takes place.\n",
    "#The total length is recalculated to determine if the solution \n",
    "#is improving. The number of iterations is reduced to a maximum\n",
    "#of 5 considering the limitations of computational resources. \n",
    "iter = 1\n",
    "while iter <= 5:\n",
    "    print(\"-------------------------------------\")\n",
    "    print(\"iter: \",iter)\n",
    "    localseq = backup_solution(seq)\n",
    "    localobj = obj\n",
    "    loc = 0\n",
    "    while loc < size:\n",
    "        newseq = neighborhood(seq,loc)\n",
    "        newobj = tour_length(newseq)\n",
    "        if newobj < localobj:\n",
    "            localseq = newseq\n",
    "            localobj = newobj\n",
    "            print(\"updated solution: \",localseq)\n",
    "            print(\"updated tour length: \",localobj)\n",
    "        loc = loc + 1\n",
    "    if localobj < obj:\n",
    "        seq = backup_solution(localseq)\n",
    "        obj = localobj\n",
    "    else:\n",
    "        print(\"no better neighborhood solution is found\")\n",
    "        break\n",
    "    iter = iter + 1"
   ]
  }
 ],
 "metadata": {
  "kernelspec": {
   "display_name": "Python 3 (ipykernel)",
   "language": "python",
   "name": "python3"
  },
  "language_info": {
   "codemirror_mode": {
    "name": "ipython",
    "version": 3
   },
   "file_extension": ".py",
   "mimetype": "text/x-python",
   "name": "python",
   "nbconvert_exporter": "python",
   "pygments_lexer": "ipython3",
   "version": "3.9.7"
  }
 },
 "nbformat": 4,
 "nbformat_minor": 5
}
