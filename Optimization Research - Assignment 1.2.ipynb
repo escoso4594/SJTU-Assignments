{
 "cells": [
  {
   "cell_type": "markdown",
   "id": "8944e52b",
   "metadata": {},
   "source": [
    "# ASSIGNMENT 1 - EXCERCISE 2"
   ]
  },
  {
   "cell_type": "markdown",
   "id": "6681628e",
   "metadata": {},
   "source": [
    "### Solve a travelling salesman problem for 10 random matrices"
   ]
  },
  {
   "cell_type": "markdown",
   "id": "079d2622",
   "metadata": {},
   "source": [
    "#### The following example will be shown with full detail for a 14x14 matrix. Since the assignment requires to solve 10 different matrices, only the final result will be shown for the remaining 9 tests"
   ]
  },
  {
   "cell_type": "code",
   "execution_count": 1,
   "id": "138411c4",
   "metadata": {},
   "outputs": [],
   "source": [
    "from pulp import *\n",
    "import numpy as np"
   ]
  },
  {
   "cell_type": "code",
   "execution_count": 2,
   "id": "b8023b20",
   "metadata": {},
   "outputs": [
    {
     "name": "stdout",
     "output_type": "stream",
     "text": [
      "[[0, 6, 60, 34, 98, 34, 45, 87, 24, 23, 27, 34, 78, 98], [6, 0, 52, 48, 51, 74, 97, 71, 31, 33, 31, 52, 10, 56], [60, 52, 0, 92, 28, 82, 19, 80, 24, 34, 67, 16, 18, 39], [34, 48, 92, 0, 77, 19, 52, 19, 60, 24, 64, 45, 44, 60], [98, 51, 28, 77, 0, 99, 33, 11, 30, 56, 68, 53, 15, 3], [34, 74, 82, 19, 99, 0, 56, 53, 47, 1, 76, 64, 32, 22], [45, 97, 19, 52, 33, 56, 0, 63, 91, 82, 59, 95, 79, 73], [87, 71, 80, 19, 11, 53, 63, 0, 87, 42, 59, 80, 37, 51], [24, 31, 24, 60, 30, 47, 91, 87, 0, 66, 27, 86, 43, 85], [23, 33, 34, 24, 56, 1, 82, 42, 66, 0, 63, 51, 69, 61], [27, 31, 67, 64, 68, 76, 59, 59, 27, 63, 0, 93, 11, 28], [34, 52, 16, 45, 53, 64, 95, 80, 86, 51, 93, 0, 46, 70], [78, 10, 18, 44, 15, 32, 79, 37, 43, 69, 11, 46, 0, 17], [98, 56, 39, 60, 3, 22, 73, 51, 85, 61, 28, 70, 17, 0]]\n"
     ]
    }
   ],
   "source": [
    "import random\n",
    "def matrix(n):\n",
    "    m = [[0] * n for _ in range(n)]\n",
    "    for row in range(n):\n",
    "        for column in range(row, n):\n",
    "            m[column][row] = m[row][column] = 0 if row == column else random.randint(0,100)\n",
    "    return m\n",
    "origin_destination_matrix = matrix(14)\n",
    "print(origin_destination_matrix)"
   ]
  },
  {
   "cell_type": "code",
   "execution_count": 3,
   "id": "fa28c576",
   "metadata": {},
   "outputs": [],
   "source": [
    "#Create an origin-destination matrix of the distances between the cities\n",
    "#Note that the center diagonal is of 0's since the pair is origin i = destination j\n",
    "#First instance will be created with 14 cities\n",
    "import random\n",
    "def arrange(x, rows, cols):\n",
    "    random.shuffle(x)\n",
    "    return [x[cols * i : cols * (i + 1)] for i in range(rows)]\n",
    "#origin_destination_matrix = (arrange(list(range(14*14)), 14, 14))\n",
    "#print(origin_destination_matrix)"
   ]
  },
  {
   "cell_type": "code",
   "execution_count": 4,
   "id": "56cc8684",
   "metadata": {},
   "outputs": [
    {
     "name": "stdout",
     "output_type": "stream",
     "text": [
      "Cities:  14\n",
      "Indexes:  range(0, 14)\n"
     ]
    }
   ],
   "source": [
    "#Create variables with the parameters of the matrix to work with\n",
    "cities = len(origin_destination_matrix)\n",
    "indexes = range(cities)\n",
    "print(\"Cities: \", cities)\n",
    "print(\"Indexes: \", indexes)"
   ]
  },
  {
   "cell_type": "code",
   "execution_count": 5,
   "id": "8fcba9e8",
   "metadata": {},
   "outputs": [],
   "source": [
    "#Create a list of all the coordinates combinations of the matrix, excluding the center diagonal of 0's\n",
    "E = [(i,j) for i in indexes for j in indexes if i!=j]"
   ]
  },
  {
   "cell_type": "code",
   "execution_count": 6,
   "id": "fee8c042",
   "metadata": {},
   "outputs": [],
   "source": [
    "#Instruction for minimizing the problem\n",
    "m = LpProblem(\"TSP\",LpMinimize)"
   ]
  },
  {
   "cell_type": "code",
   "execution_count": 7,
   "id": "7ddedf6a",
   "metadata": {},
   "outputs": [],
   "source": [
    "#Create a dictionary of all coordinate pairs\n",
    "#Associate each pair with an X to assign 0 or 1 afterwards if the city will be chosen as part of the optimal route\n",
    "x = LpVariable.dicts('x',E,cat=LpBinary)"
   ]
  },
  {
   "cell_type": "code",
   "execution_count": 8,
   "id": "b2f6d9f2",
   "metadata": {},
   "outputs": [],
   "source": [
    "#Create the objective function of costs per each pair\n",
    "#The costs are the distances stated in the origin-destination matrix, excluding the diagonal\n",
    "m += sum([origin_destination_matrix[i][j]*x[(i,j)]for (i,j) in E])"
   ]
  },
  {
   "cell_type": "code",
   "execution_count": 9,
   "id": "23c3c83f",
   "metadata": {},
   "outputs": [],
   "source": [
    "#Create the constraints\n",
    "#It limits to a step size of 1, where from one origin, movement can only occur to one destination at a time\n",
    "#The function calculates each pair both back and forth \n",
    "for i in indexes:\n",
    "    m += sum([x[(i,j)] for j in indexes if i!=j]) == 1, \"One out of \"+str(i)\n",
    "    m += sum([x[(j,i)] for j in indexes if i!=j]) == 1, \"One in to \"+str(i)"
   ]
  },
  {
   "cell_type": "code",
   "execution_count": 10,
   "id": "f77979d9",
   "metadata": {},
   "outputs": [
    {
     "name": "stdout",
     "output_type": "stream",
     "text": [
      "- Optimal routes without eliminating subtours:\n",
      "Segments within route:  {(1, 12), (6, 2), (12, 1), (13, 4), (4, 13), (10, 8), (11, 0), (3, 7), (8, 10), (7, 3), (9, 5), (2, 6), (5, 9), (0, 11)}\n"
     ]
    }
   ],
   "source": [
    "#Instructions for preliminar solution of the system without adding the restriction of subtours\n",
    "m.solve()\n",
    "vobj = value(m.objective)\n",
    "xsol = {e:value(x[e]) for e in E}\n",
    "print(\"- Optimal routes without eliminating subtours:\")\n",
    "sol_summary={x for x,y in xsol.items() if y!=0}\n",
    "print(\"Segments within route: \", sol_summary)"
   ]
  },
  {
   "cell_type": "code",
   "execution_count": 11,
   "id": "acd18f55",
   "metadata": {},
   "outputs": [],
   "source": [
    "#Find successive cities that have the shortest path between them\n",
    "def subtour(xsol):\n",
    "    succ = 0\n",
    "    subt = [succ]\n",
    "    while True:\n",
    "        succ = sum(xsol[succ,j]*j for j in indexes if j!=succ)\n",
    "        if succ == 0: break\n",
    "        subt.append(int(succ))\n",
    "    return subt"
   ]
  },
  {
   "cell_type": "code",
   "execution_count": 12,
   "id": "b16b1d65",
   "metadata": {},
   "outputs": [
    {
     "name": "stdout",
     "output_type": "stream",
     "text": [
      "- Identify subtours\n",
      "Subtour found: [0, 11]\n",
      "- Identify subtours\n",
      "Subtour found: [0, 1, 12, 13, 4, 6, 2, 11]\n",
      "- Identify subtours\n",
      "Subtour found: [0, 11, 2, 6, 4, 13, 12, 10, 8, 1]\n",
      "- Identify subtours\n",
      "Subtour found: [0, 11, 3, 7, 4, 13, 12, 1]\n",
      "- Identify subtours\n",
      "Subtour found: [0, 1, 12, 13, 4, 7, 3, 6, 2, 11]\n",
      "- Identify subtours\n",
      "Subtour found: [0, 1, 8, 10, 12, 13, 4, 7, 3, 11]\n",
      "- Identify subtours\n",
      "Subtour found: [0, 8, 10, 12, 1]\n",
      "- Identify subtours\n",
      "Subtour found: [0, 1, 8, 10, 12, 13, 4, 7, 3, 6, 2, 11]\n",
      "- Identify subtours\n",
      "Subtour found: [0, 9, 5, 13, 4, 6, 2, 11]\n",
      "- Identify subtours\n",
      "Subtour found: [0, 11, 9, 5, 3, 7, 4, 13, 12, 1]\n",
      "- Identify subtours\n",
      "Subtour found: [0, 11, 2, 6, 4, 7, 3, 9, 5, 13, 12, 1]\n",
      "- Identify subtours\n",
      "Subtour found: [0, 1, 8, 10, 12, 13, 4, 7, 3, 5, 9, 11]\n",
      "- Optimal tour excluding subtours\n",
      "Optimal tour found: [0, 11, 2, 6, 4, 7, 3, 9, 5, 13, 12, 10, 8, 1]\n",
      "Optimal tour length: 271\n"
     ]
    }
   ],
   "source": [
    "#Iterate the previous definition to find all possible short subtours\n",
    "#The function will add more nodes as it runs out of shorter routes\n",
    "while True:\n",
    "    subt = subtour(xsol)\n",
    "    if len(subt) == cities:\n",
    "        print(\"- Optimal tour excluding subtours\")\n",
    "        print(\"Optimal tour found: %r\"%subt)\n",
    "        print(\"Optimal tour length: %g\"%vobj)\n",
    "        break\n",
    "    print(\"- Identify subtours\")\n",
    "    print(\"Subtour found: %r\"%subt)\n",
    "    m += sum([x[(i,j)] for i in subt for j in subt if i!=j])<= len(subt)-1\n",
    "    m.solve()\n",
    "    vobj = value(m.objective)\n",
    "    xsol = {e: value(x[e]) for e in E}"
   ]
  },
  {
   "cell_type": "markdown",
   "id": "98332e6c",
   "metadata": {},
   "source": [
    "#### Solution for matrices from 5x5 to 13x13"
   ]
  },
  {
   "cell_type": "code",
   "execution_count": 13,
   "id": "5dc306d2",
   "metadata": {},
   "outputs": [
    {
     "name": "stdout",
     "output_type": "stream",
     "text": [
      "===================================================================================================================\n",
      "Matrix =  5 x 5\n",
      "- Optimal routes without eliminating subtours:\n",
      "Segments within route:  {(0, 1), (4, 0), (1, 2), (3, 4), (2, 3)}\n",
      "- Optimal tour excluding subtours\n",
      "Optimal tour found: [0, 1, 2, 3, 4]\n",
      "Optimal tour length: 74\n",
      "===================================================================================================================\n",
      "Matrix =  6 x 6\n",
      "- Optimal routes without eliminating subtours:\n",
      "Segments within route:  {(2, 0), (1, 4), (0, 2), (5, 3), (4, 1), (3, 5)}\n",
      "- Identify subtours\n",
      "Subtour found: [0, 2]\n",
      "- Identify subtours\n",
      "Subtour found: [0, 2, 4, 1]\n",
      "- Optimal tour excluding subtours\n",
      "Optimal tour found: [0, 4, 1, 5, 3, 2]\n",
      "Optimal tour length: 244\n",
      "===================================================================================================================\n",
      "Matrix =  7 x 7\n",
      "- Optimal routes without eliminating subtours:\n",
      "Segments within route:  {(1, 2), (0, 4), (2, 1), (4, 5), (5, 0), (3, 6), (6, 3)}\n",
      "- Identify subtours\n",
      "Subtour found: [0, 4, 5]\n",
      "- Identify subtours\n",
      "Subtour found: [0, 5]\n",
      "- Identify subtours\n",
      "Subtour found: [0, 5, 4, 6, 3]\n",
      "- Identify subtours\n",
      "Subtour found: [0, 2, 1, 4, 5]\n",
      "- Optimal tour excluding subtours\n",
      "Optimal tour found: [0, 5, 4, 6, 3, 1, 2]\n",
      "Optimal tour length: 163\n",
      "===================================================================================================================\n",
      "Matrix =  8 x 8\n",
      "- Optimal routes without eliminating subtours:\n",
      "Segments within route:  {(3, 1), (5, 4), (2, 0), (6, 7), (4, 5), (0, 2), (7, 6), (1, 3)}\n",
      "- Identify subtours\n",
      "Subtour found: [0, 2]\n",
      "- Identify subtours\n",
      "Subtour found: [0, 2, 7, 6, 3, 1]\n",
      "- Optimal tour excluding subtours\n",
      "Optimal tour found: [0, 2, 7, 6, 3, 1, 5, 4]\n",
      "Optimal tour length: 272\n",
      "===================================================================================================================\n",
      "Matrix =  9 x 9\n",
      "- Optimal routes without eliminating subtours:\n",
      "Segments within route:  {(0, 1), (6, 2), (3, 4), (4, 3), (5, 7), (2, 6), (1, 0), (8, 5), (7, 8)}\n",
      "- Identify subtours\n",
      "Subtour found: [0, 1]\n",
      "- Identify subtours\n",
      "Subtour found: [0, 8, 7, 5, 1]\n",
      "- Identify subtours\n",
      "Subtour found: [0, 6, 2, 5, 1]\n",
      "- Identify subtours\n",
      "Subtour found: [0, 1, 4, 3]\n",
      "- Identify subtours\n",
      "Subtour found: [0, 4, 3, 8, 7, 5, 1]\n",
      "- Optimal tour excluding subtours\n",
      "Optimal tour found: [0, 6, 2, 4, 3, 8, 7, 5, 1]\n",
      "Optimal tour length: 171\n",
      "===================================================================================================================\n",
      "Matrix =  10 x 10\n",
      "- Optimal routes without eliminating subtours:\n",
      "Segments within route:  {(0, 1), (3, 4), (4, 3), (6, 7), (9, 5), (7, 6), (8, 2), (1, 0), (5, 9), (2, 8)}\n",
      "- Identify subtours\n",
      "Subtour found: [0, 1]\n",
      "- Identify subtours\n",
      "Subtour found: [0, 1, 5, 9, 4, 3]\n",
      "- Identify subtours\n",
      "Subtour found: [0, 1, 9, 5, 8, 2, 4, 3]\n",
      "- Identify subtours\n",
      "Subtour found: [0, 1, 6, 7, 4, 3]\n",
      "- Optimal tour excluding subtours\n",
      "Optimal tour found: [0, 3, 4, 7, 6, 2, 8, 5, 9, 1]\n",
      "Optimal tour length: 194\n",
      "===================================================================================================================\n",
      "Matrix =  11 x 11\n",
      "- Optimal routes without eliminating subtours:\n",
      "Segments within route:  {(0, 1), (2, 4), (8, 7), (3, 10), (4, 2), (9, 5), (10, 6), (1, 0), (5, 9), (6, 3), (7, 8)}\n",
      "- Identify subtours\n",
      "Subtour found: [0, 1]\n",
      "- Identify subtours\n",
      "Subtour found: [0, 4, 8, 7, 1]\n",
      "- Identify subtours\n",
      "Subtour found: [0, 1, 6, 3, 10, 2, 4]\n",
      "- Identify subtours\n",
      "Subtour found: [0, 4, 2, 8, 7, 1]\n",
      "- Identify subtours\n",
      "Subtour found: [0, 9, 5, 10, 2, 4, 8, 7, 1]\n",
      "- Identify subtours\n",
      "Subtour found: [0, 9, 5, 10, 3, 6, 1]\n",
      "- Identify subtours\n",
      "Subtour found: [0, 4, 2, 10, 3, 6, 8, 7, 1]\n",
      "- Identify subtours\n",
      "Subtour found: [0, 1, 7, 8, 6, 3, 10, 5, 9]\n",
      "- Optimal tour excluding subtours\n",
      "Optimal tour found: [0, 9, 5, 10, 3, 6, 1, 7, 8, 2, 4]\n",
      "Optimal tour length: 123\n",
      "===================================================================================================================\n",
      "Matrix =  12 x 12\n",
      "- Optimal routes without eliminating subtours:\n",
      "Segments within route:  {(4, 10), (2, 4), (10, 2), (5, 8), (11, 0), (7, 3), (8, 5), (6, 7), (3, 6), (9, 1), (1, 9), (0, 11)}\n",
      "- Identify subtours\n",
      "Subtour found: [0, 11]\n",
      "- Identify subtours\n",
      "Subtour found: [0, 9, 1, 6, 3, 7, 11]\n",
      "- Identify subtours\n",
      "Subtour found: [0, 9, 2, 4, 10, 1, 6, 3, 7, 11]\n",
      "- Identify subtours\n",
      "Subtour found: [0, 9, 8, 5, 7, 11]\n",
      "- Identify subtours\n",
      "Subtour found: [0, 11, 7, 5, 8, 9, 1, 10]\n",
      "- Identify subtours\n",
      "Subtour found: [0, 9, 8, 5, 1, 6, 3, 7, 11]\n",
      "- Identify subtours\n",
      "Subtour found: [0, 9, 1, 10, 2, 4, 8, 5, 7, 11]\n",
      "- Optimal tour excluding subtours\n",
      "Optimal tour found: [0, 10, 4, 2, 9, 8, 5, 1, 6, 3, 7, 11]\n",
      "Optimal tour length: 125\n",
      "===================================================================================================================\n",
      "Matrix =  13 x 13\n",
      "- Optimal routes without eliminating subtours:\n",
      "Segments within route:  {(2, 4), (8, 7), (10, 1), (3, 10), (4, 2), (0, 6), (11, 9), (6, 0), (12, 5), (9, 11), (1, 3), (5, 12), (7, 8)}\n",
      "- Identify subtours\n",
      "Subtour found: [0, 6]\n",
      "- Identify subtours\n",
      "Subtour found: [0, 6, 10, 1, 3]\n",
      "- Identify subtours\n",
      "Subtour found: [0, 6, 8, 7, 3]\n",
      "- Identify subtours\n",
      "Subtour found: [0, 6, 8, 7, 1, 10, 3]\n",
      "- Identify subtours\n",
      "Subtour found: [0, 3, 11, 9, 10, 1, 6]\n",
      "- Identify subtours\n",
      "Subtour found: [0, 3, 12, 5, 6]\n",
      "- Identify subtours\n",
      "Subtour found: [0, 3, 11, 9, 10, 1, 7, 8, 6]\n",
      "- Identify subtours\n",
      "Subtour found: [0, 6, 10, 1, 5, 12, 3]\n",
      "- Identify subtours\n",
      "Subtour found: [0, 6, 10, 1, 7, 8, 5, 12, 3]\n",
      "- Identify subtours\n",
      "Subtour found: [0, 2, 4, 3, 1, 10, 6]\n",
      "- Identify subtours\n",
      "Subtour found: [0, 5, 12, 3, 11, 9, 10, 1, 6]\n",
      "- Identify subtours\n",
      "Subtour found: [0, 6, 8, 7, 3, 4, 2]\n",
      "- Identify subtours\n",
      "Subtour found: [0, 5, 12, 3, 11, 9, 10, 1, 7, 8, 6]\n",
      "- Identify subtours\n",
      "Subtour found: [0, 2, 4, 5, 12, 3, 1, 10, 6]\n",
      "- Identify subtours\n",
      "Subtour found: [0, 2, 4, 9, 11, 3, 1, 10, 6]\n",
      "- Identify subtours\n",
      "Subtour found: [0, 6, 8, 7, 1, 10, 3, 4, 2]\n",
      "- Identify subtours\n",
      "Subtour found: [0, 6, 8, 7, 3, 12, 5, 4, 2]\n",
      "- Identify subtours\n",
      "Subtour found: [0, 2, 4, 9, 11, 3, 7, 8, 6]\n",
      "- Identify subtours\n",
      "Subtour found: [0, 2, 4, 3, 11, 9, 10, 1, 7, 8, 6]\n",
      "- Identify subtours\n",
      "Subtour found: [0, 6, 8, 7, 1, 10, 3, 12, 5, 4, 2]\n",
      "- Identify subtours\n",
      "Subtour found: [0, 6, 1, 10, 9, 11, 3, 12, 5, 4, 2]\n",
      "- Optimal tour excluding subtours\n",
      "Optimal tour found: [0, 6, 8, 7, 1, 10, 9, 11, 3, 12, 5, 4, 2]\n",
      "Optimal tour length: 233\n"
     ]
    }
   ],
   "source": [
    "def arrange(x, rows, cols):\n",
    "    random.shuffle(x)\n",
    "    return [x[cols * i : cols * (i + 1)] for i in range(rows)]\n",
    "def subtour(xsol):\n",
    "    succ = 0\n",
    "    subt = [succ]\n",
    "    while True:\n",
    "        succ = sum(xsol[succ,j]*j for j in indexes if j!=succ)\n",
    "        if succ == 0: break\n",
    "        subt.append(int(succ))\n",
    "    return subt\n",
    "for index in range(5,14):\n",
    "    print(\"===================================================================================================================\")\n",
    "    print(\"Matrix = \", index, \"x\", index)\n",
    "    origin_destination_matrix = matrix(index)\n",
    "    cities = len(origin_destination_matrix)\n",
    "    indexes = range(cities)\n",
    "    E = [(i,j) for i in indexes for j in indexes if i!=j]\n",
    "    m = LpProblem(\"TSP\",LpMinimize)\n",
    "    x = LpVariable.dicts('x',E,cat=LpBinary)\n",
    "    m += sum([origin_destination_matrix[i][j]*x[(i,j)]for (i,j) in E])\n",
    "    for i in indexes:\n",
    "        m += sum([x[(i,j)] for j in indexes if i!=j]) == 1, \"One out of \"+str(i)\n",
    "        m += sum([x[(j,i)] for j in indexes if i!=j]) == 1, \"One in to \"+str(i)\n",
    "    m.solve()\n",
    "    vobj = value(m.objective)\n",
    "    xsol = {e:value(x[e]) for e in E}\n",
    "    print(\"- Optimal routes without eliminating subtours:\")\n",
    "    sol_summary={x for x,y in xsol.items() if y!=0}\n",
    "    print(\"Segments within route: \", sol_summary)\n",
    "\n",
    "    while True:\n",
    "        subt = subtour(xsol)\n",
    "        if len(subt) == cities:\n",
    "            print(\"- Optimal tour excluding subtours\")\n",
    "            print(\"Optimal tour found: %r\"%subt)\n",
    "            print(\"Optimal tour length: %g\"%vobj)\n",
    "            break\n",
    "        print(\"- Identify subtours\")\n",
    "        print(\"Subtour found: %r\"%subt)\n",
    "        m += sum([x[(i,j)] for i in subt for j in subt if i!=j])<= len(subt)-1\n",
    "        m.solve()\n",
    "        vobj = value(m.objective)\n",
    "        xsol = {e: value(x[e]) for e in E}"
   ]
  },
  {
   "cell_type": "code",
   "execution_count": null,
   "id": "709f1772",
   "metadata": {},
   "outputs": [],
   "source": []
  }
 ],
 "metadata": {
  "kernelspec": {
   "display_name": "Python 3 (ipykernel)",
   "language": "python",
   "name": "python3"
  },
  "language_info": {
   "codemirror_mode": {
    "name": "ipython",
    "version": 3
   },
   "file_extension": ".py",
   "mimetype": "text/x-python",
   "name": "python",
   "nbconvert_exporter": "python",
   "pygments_lexer": "ipython3",
   "version": "3.9.7"
  }
 },
 "nbformat": 4,
 "nbformat_minor": 5
}
