{
 "cells": [
  {
   "cell_type": "markdown",
   "id": "8944e52b",
   "metadata": {},
   "source": [
    "# ASSIGNMENT 1 - EXCERCISE 2"
   ]
  },
  {
   "cell_type": "markdown",
   "id": "6681628e",
   "metadata": {},
   "source": [
    "### Solve a travelling salesman problem for 10 random matrices"
   ]
  },
  {
   "cell_type": "markdown",
   "id": "079d2622",
   "metadata": {},
   "source": [
    "#### The following example will be shown with full detail for a 5x5 matrix. Since the assignment requires to solve 10 different matrices, only the final result will be shown for the remaining 9 tests"
   ]
  },
  {
   "cell_type": "code",
   "execution_count": 1,
   "id": "138411c4",
   "metadata": {},
   "outputs": [],
   "source": [
    "from pulp import *"
   ]
  },
  {
   "cell_type": "code",
   "execution_count": 2,
   "id": "fa28c576",
   "metadata": {},
   "outputs": [
    {
     "name": "stdout",
     "output_type": "stream",
     "text": [
      "[[1, 132, 108, 148, 185, 166, 171, 89, 58, 59, 24, 145, 37, 188], [2, 97, 114, 18, 77, 184, 100, 8, 53, 87, 101, 165, 117, 102], [181, 111, 107, 28, 29, 41, 0, 42, 80, 195, 96, 191, 176, 71], [125, 93, 39, 131, 177, 124, 55, 174, 121, 34, 35, 51, 110, 88], [173, 11, 52, 61, 26, 163, 44, 15, 136, 66, 67, 120, 172, 5], [92, 153, 50, 118, 46, 178, 81, 82, 85, 12, 126, 103, 112, 69], [22, 105, 36, 168, 146, 143, 10, 94, 159, 31, 19, 134, 162, 78], [193, 86, 156, 49, 7, 115, 64, 3, 140, 30, 13, 141, 169, 84], [109, 74, 43, 160, 167, 47, 113, 63, 99, 152, 142, 14, 45, 151], [72, 122, 192, 138, 144, 70, 60, 104, 133, 175, 95, 57, 158, 157], [16, 194, 23, 182, 106, 90, 4, 183, 190, 164, 128, 20, 186, 189], [32, 149, 68, 139, 21, 54, 98, 65, 180, 170, 48, 62, 76, 147], [73, 137, 25, 123, 33, 130, 187, 9, 119, 79, 154, 27, 135, 155], [150, 40, 91, 116, 161, 127, 56, 6, 17, 129, 179, 75, 38, 83]]\n"
     ]
    }
   ],
   "source": [
    "#Create a origin-destination matrix of the distances between the cities\n",
    "#Note that the center diagonal is of 0's since the pair is origin i = destination j\n",
    "#First instance will be created with 14 cities\n",
    "import random\n",
    "def arrange(x, rows, cols):\n",
    "    random.shuffle(x)\n",
    "    return [x[cols * i : cols * (i + 1)] for i in range(rows)]\n",
    "origin_destination_matrix = (arrange(list(range(14*14)), 14, 14))\n",
    "print(origin_destination_matrix)"
   ]
  },
  {
   "cell_type": "code",
   "execution_count": 3,
   "id": "56cc8684",
   "metadata": {},
   "outputs": [
    {
     "name": "stdout",
     "output_type": "stream",
     "text": [
      "Cities:  14\n",
      "Indexes:  range(0, 14)\n"
     ]
    }
   ],
   "source": [
    "#Create variables with the parameters of the matrix to work with\n",
    "cities = len(origin_destination_matrix)\n",
    "indexes = range(cities)\n",
    "print(\"Cities: \", cities)\n",
    "print(\"Indexes: \", indexes)"
   ]
  },
  {
   "cell_type": "code",
   "execution_count": 4,
   "id": "8fcba9e8",
   "metadata": {},
   "outputs": [],
   "source": [
    "#Create a list of all the coordinates combinations of the matrix, excluding the center diagonal of 0's\n",
    "E = [(i,j) for i in indexes for j in indexes if i!=j]"
   ]
  },
  {
   "cell_type": "code",
   "execution_count": 5,
   "id": "fee8c042",
   "metadata": {},
   "outputs": [],
   "source": [
    "#Instruction for minimizing the problem\n",
    "m = LpProblem(\"TSP\",LpMinimize)"
   ]
  },
  {
   "cell_type": "code",
   "execution_count": 6,
   "id": "7ddedf6a",
   "metadata": {},
   "outputs": [],
   "source": [
    "#Create a dictionary of all coordinate pairs\n",
    "#Associate each pair with an X to assign 0 or 1 afterwards if the city will be chosen as part of the optimal route\n",
    "x = LpVariable.dicts('x',E,cat=LpBinary)"
   ]
  },
  {
   "cell_type": "code",
   "execution_count": 7,
   "id": "b2f6d9f2",
   "metadata": {},
   "outputs": [],
   "source": [
    "#Create the objective function of costs per each pair\n",
    "#The costs are the distances stated in the origin-destination matrix, excluding the diagonal\n",
    "m += sum([origin_destination_matrix[i][j]*x[(i,j)]for (i,j) in E])"
   ]
  },
  {
   "cell_type": "code",
   "execution_count": 8,
   "id": "23c3c83f",
   "metadata": {},
   "outputs": [],
   "source": [
    "#Create the constraints\n",
    "#It limits to a step size of 1, where from one origin, movement can only occur to one destination at a time\n",
    "#The function calculates each pair both back and forth \n",
    "for i in indexes:\n",
    "    m += sum([x[(i,j)] for j in indexes if i!=j]) == 1, \"One out of \"+str(i)\n",
    "    m += sum([x[(j,i)] for j in indexes if i!=j]) == 1, \"One in to \"+str(i)"
   ]
  },
  {
   "cell_type": "code",
   "execution_count": 9,
   "id": "f77979d9",
   "metadata": {},
   "outputs": [
    {
     "name": "stdout",
     "output_type": "stream",
     "text": [
      "- Optimal routes without eliminating subtours:\n",
      "Segments within route:  {(13, 8), (10, 2), (4, 13), (12, 7), (3, 1), (7, 10), (0, 12), (9, 5), (2, 6), (6, 0), (5, 9), (1, 3), (11, 4), (8, 11)}\n",
      "Tour length: 354\n"
     ]
    }
   ],
   "source": [
    "#Instructions for preliminar solution of the system without adding the restriction of subtours\n",
    "m.solve()\n",
    "vobj = value(m.objective)\n",
    "xsol = {e:value(x[e]) for e in E}\n",
    "print(\"- Optimal routes without eliminating subtours:\")\n",
    "sol_summary={x for x,y in xsol.items() if y!=0}\n",
    "print(\"Segments within route: \", sol_summary)"
   ]
  },
  {
   "cell_type": "code",
   "execution_count": 10,
   "id": "acd18f55",
   "metadata": {},
   "outputs": [],
   "source": [
    "#Find successive cities that have the shortest path between them\n",
    "def subtour(xsol):\n",
    "    succ = 0\n",
    "    subt = [succ]\n",
    "    while True:\n",
    "        succ = sum(xsol[succ,j]*j for j in indexes if j!=succ)\n",
    "        if succ == 0: break\n",
    "        subt.append(int(succ))\n",
    "    return subt"
   ]
  },
  {
   "cell_type": "code",
   "execution_count": 11,
   "id": "b16b1d65",
   "metadata": {},
   "outputs": [
    {
     "name": "stdout",
     "output_type": "stream",
     "text": [
      "- Identify subtours\n",
      "Subtour found: [0, 12, 7, 10, 2, 6]\n",
      "- Identify subtours\n",
      "Subtour found: [0, 12, 7, 10, 6, 13, 8, 11, 4, 1]\n",
      "- Identify subtours\n",
      "Subtour found: [0, 12, 7, 10]\n",
      "- Identify subtours\n",
      "Subtour found: [0, 12, 7, 4, 13, 8, 11]\n",
      "- Identify subtours\n",
      "Subtour found: [0, 12, 7, 10, 11, 4, 13, 8, 1, 3, 2, 6]\n",
      "- Identify subtours\n",
      "Subtour found: [0, 12, 7, 4, 1, 3, 9, 5, 13, 8, 11]\n",
      "- Identify subtours\n",
      "Subtour found: [0, 12, 7, 4, 13, 8, 1]\n",
      "- Identify subtours\n",
      "Subtour found: [0, 12, 7, 4, 13, 8, 1, 3, 2, 6, 10]\n",
      "- Identify subtours\n",
      "Subtour found: [0, 12, 7, 10, 6, 9, 5, 13, 8, 11, 4, 1]\n",
      "- Optimal tour excluding subtours\n",
      "Optimal tour found: [0, 12, 7, 10, 6, 2, 3, 9, 5, 13, 8, 11, 4, 1]\n",
      "Optimal tour length: 365\n"
     ]
    }
   ],
   "source": [
    "#Iterate the previous definition to find all possible short subtours\n",
    "#The function will add more nodes as it runs out of shorter routes\n",
    "while True:\n",
    "    subt = subtour(xsol)\n",
    "    if len(subt) == cities:\n",
    "        print(\"- Optimal tour excluding subtours\")\n",
    "        print(\"Optimal tour found: %r\"%subt)\n",
    "        print(\"Optimal tour length: %g\"%vobj)\n",
    "        break\n",
    "    print(\"- Identify subtours\")\n",
    "    print(\"Subtour found: %r\"%subt)\n",
    "    m += sum([x[(i,j)] for i in subt for j in subt if i!=j])<= len(subt)-1\n",
    "    m.solve()\n",
    "    vobj = value(m.objective)\n",
    "    xsol = {e: value(x[e]) for e in E}"
   ]
  },
  {
   "cell_type": "markdown",
   "id": "98332e6c",
   "metadata": {},
   "source": [
    "#### Solution for matrices from 5x5 to 13x13"
   ]
  },
  {
   "cell_type": "code",
   "execution_count": 12,
   "id": "5dc306d2",
   "metadata": {},
   "outputs": [
    {
     "name": "stdout",
     "output_type": "stream",
     "text": [
      "===================================================================================================================\n",
      "Matrix =  5 x 5\n",
      "- Optimal routes without eliminating subtours:\n",
      "Segments within route:  {(3, 4), (4, 1), (2, 0), (0, 2), (1, 3)}\n",
      "- Identify subtours\n",
      "Subtour found: [0, 2]\n",
      "- Optimal tour excluding subtours\n",
      "Optimal tour found: [0, 4, 1, 3, 2]\n",
      "Optimal tour length: 40\n",
      "===================================================================================================================\n",
      "Matrix =  6 x 6\n",
      "- Optimal routes without eliminating subtours:\n",
      "Segments within route:  {(3, 1), (5, 4), (4, 2), (2, 3), (0, 5), (1, 0)}\n",
      "- Optimal tour excluding subtours\n",
      "Optimal tour found: [0, 5, 4, 2, 3, 1]\n",
      "Optimal tour length: 29\n",
      "===================================================================================================================\n",
      "Matrix =  7 x 7\n",
      "- Optimal routes without eliminating subtours:\n",
      "Segments within route:  {(6, 2), (2, 1), (3, 4), (4, 3), (1, 5), (0, 6), (5, 0)}\n",
      "- Identify subtours\n",
      "Subtour found: [0, 6, 2, 1, 5]\n",
      "- Optimal tour excluding subtours\n",
      "Optimal tour found: [0, 2, 1, 5, 6, 4, 3]\n",
      "Optimal tour length: 57\n",
      "===================================================================================================================\n",
      "Matrix =  8 x 8\n",
      "- Optimal routes without eliminating subtours:\n",
      "Segments within route:  {(2, 1), (6, 4), (5, 7), (7, 3), (4, 5), (0, 2), (3, 6), (1, 0)}\n",
      "- Identify subtours\n",
      "Subtour found: [0, 2, 1]\n",
      "- Optimal tour excluding subtours\n",
      "Optimal tour found: [0, 5, 7, 3, 6, 4, 2, 1]\n",
      "Optimal tour length: 129\n",
      "===================================================================================================================\n",
      "Matrix =  9 x 9\n",
      "- Optimal routes without eliminating subtours:\n",
      "Segments within route:  {(0, 7), (6, 2), (2, 1), (5, 8), (4, 6), (1, 4), (3, 0), (7, 3), (8, 5)}\n",
      "- Identify subtours\n",
      "Subtour found: [0, 7, 3]\n",
      "- Identify subtours\n",
      "Subtour found: [0, 7, 4, 6, 3]\n",
      "- Identify subtours\n",
      "Subtour found: [0, 7, 3, 5, 8]\n",
      "- Identify subtours\n",
      "Subtour found: [0, 7, 4, 6, 2, 1, 3]\n",
      "- Identify subtours\n",
      "Subtour found: [0, 7, 4, 6, 3, 5, 8]\n",
      "- Optimal tour excluding subtours\n",
      "Optimal tour found: [0, 7, 3, 5, 8, 4, 6, 1, 2]\n",
      "Optimal tour length: 114\n",
      "===================================================================================================================\n",
      "Matrix =  10 x 10\n",
      "- Optimal routes without eliminating subtours:\n",
      "Segments within route:  {(0, 7), (7, 4), (6, 8), (8, 0), (2, 9), (4, 5), (5, 3), (1, 6), (3, 2), (9, 1)}\n",
      "- Optimal tour excluding subtours\n",
      "Optimal tour found: [0, 7, 4, 5, 3, 2, 9, 1, 6, 8]\n",
      "Optimal tour length: 137\n",
      "===================================================================================================================\n",
      "Matrix =  11 x 11\n",
      "- Optimal routes without eliminating subtours:\n",
      "Segments within route:  {(9, 10), (10, 5), (4, 0), (8, 4), (5, 8), (6, 1), (0, 9), (2, 3), (1, 7), (7, 2), (3, 6)}\n",
      "- Identify subtours\n",
      "Subtour found: [0, 9, 10, 5, 8, 4]\n",
      "- Identify subtours\n",
      "Subtour found: [0, 9, 10, 5, 8, 4, 2, 3, 6]\n",
      "- Identify subtours\n",
      "Subtour found: [0, 9, 10, 5, 1, 7, 2, 3, 6]\n",
      "- Optimal tour excluding subtours\n",
      "Optimal tour found: [0, 9, 10, 5, 8, 7, 1, 2, 3, 6, 4]\n",
      "Optimal tour length: 212\n",
      "===================================================================================================================\n",
      "Matrix =  12 x 12\n",
      "- Optimal routes without eliminating subtours:\n",
      "Segments within route:  {(4, 10), (8, 4), (10, 2), (11, 0), (3, 7), (6, 8), (9, 6), (5, 1), (2, 3), (7, 5), (1, 9), (0, 11)}\n",
      "- Identify subtours\n",
      "Subtour found: [0, 11]\n",
      "- Optimal tour excluding subtours\n",
      "Optimal tour found: [0, 7, 5, 1, 9, 6, 8, 4, 10, 2, 3, 11]\n",
      "Optimal tour length: 233\n",
      "===================================================================================================================\n",
      "Matrix =  13 x 13\n",
      "- Optimal routes without eliminating subtours:\n",
      "Segments within route:  {(11, 1), (12, 11), (9, 0), (0, 10), (2, 7), (6, 5), (10, 8), (5, 4), (4, 12), (7, 9), (8, 6), (3, 2), (1, 3)}\n",
      "- Optimal tour excluding subtours\n",
      "Optimal tour found: [0, 10, 8, 6, 5, 4, 12, 11, 1, 3, 2, 7, 9]\n",
      "Optimal tour length: 248\n"
     ]
    }
   ],
   "source": [
    "def arrange(x, rows, cols):\n",
    "    random.shuffle(x)\n",
    "    return [x[cols * i : cols * (i + 1)] for i in range(rows)]\n",
    "def subtour(xsol):\n",
    "    succ = 0\n",
    "    subt = [succ]\n",
    "    while True:\n",
    "        succ = sum(xsol[succ,j]*j for j in indexes if j!=succ)\n",
    "        if succ == 0: break\n",
    "        subt.append(int(succ))\n",
    "    return subt\n",
    "for index in range(5,14):\n",
    "    print(\"===================================================================================================================\")\n",
    "    print(\"Matrix = \", index, \"x\", index)\n",
    "    origin_destination_matrix = (arrange(list(range(index*index)), index, index))\n",
    "    cities = len(origin_destination_matrix)\n",
    "    indexes = range(cities)\n",
    "    E = [(i,j) for i in indexes for j in indexes if i!=j]\n",
    "    m = LpProblem(\"TSP\",LpMinimize)\n",
    "    x = LpVariable.dicts('x',E,cat=LpBinary)\n",
    "    m += sum([origin_destination_matrix[i][j]*x[(i,j)]for (i,j) in E])\n",
    "    for i in indexes:\n",
    "        m += sum([x[(i,j)] for j in indexes if i!=j]) == 1, \"One out of \"+str(i)\n",
    "        m += sum([x[(j,i)] for j in indexes if i!=j]) == 1, \"One in to \"+str(i)\n",
    "    m.solve()\n",
    "    vobj = value(m.objective)\n",
    "    xsol = {e:value(x[e]) for e in E}\n",
    "    print(\"- Optimal routes without eliminating subtours:\")\n",
    "    sol_summary={x for x,y in xsol.items() if y!=0}\n",
    "    print(\"Segments within route: \", sol_summary)\n",
    "\n",
    "    while True:\n",
    "        subt = subtour(xsol)\n",
    "        if len(subt) == cities:\n",
    "            print(\"- Optimal tour excluding subtours\")\n",
    "            print(\"Optimal tour found: %r\"%subt)\n",
    "            print(\"Optimal tour length: %g\"%vobj)\n",
    "            break\n",
    "        print(\"- Identify subtours\")\n",
    "        print(\"Subtour found: %r\"%subt)\n",
    "        m += sum([x[(i,j)] for i in subt for j in subt if i!=j])<= len(subt)-1\n",
    "        m.solve()\n",
    "        vobj = value(m.objective)\n",
    "        xsol = {e: value(x[e]) for e in E}"
   ]
  }
 ],
 "metadata": {
  "kernelspec": {
   "display_name": "Python 3 (ipykernel)",
   "language": "python",
   "name": "python3"
  },
  "language_info": {
   "codemirror_mode": {
    "name": "ipython",
    "version": 3
   },
   "file_extension": ".py",
   "mimetype": "text/x-python",
   "name": "python",
   "nbconvert_exporter": "python",
   "pygments_lexer": "ipython3",
   "version": "3.9.7"
  }
 },
 "nbformat": 4,
 "nbformat_minor": 5
}
