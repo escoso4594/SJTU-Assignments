{
 "cells": [
  {
   "cell_type": "markdown",
   "id": "35ea9f24",
   "metadata": {},
   "source": [
    "# ASSIGNMENT 1 - EXCERCISE 2"
   ]
  },
  {
   "cell_type": "markdown",
   "id": "4e04128c",
   "metadata": {},
   "source": [
    "### Solve a travelling salesman problem for 10 random matrices"
   ]
  },
  {
   "cell_type": "markdown",
   "id": "7b835453",
   "metadata": {},
   "source": [
    "#### The following example will be shown with full detail for a 5x5 matrix. Since the assignment requires to solve 10 different matrices, only the final result will be shown for the remaining 9 tests"
   ]
  },
  {
   "cell_type": "code",
   "execution_count": 1,
   "id": "3a6ca98b",
   "metadata": {},
   "outputs": [],
   "source": [
    "from pulp import *"
   ]
  },
  {
   "cell_type": "code",
   "execution_count": 2,
   "id": "34994fbf",
   "metadata": {},
   "outputs": [
    {
     "name": "stdout",
     "output_type": "stream",
     "text": [
      "[[4, 1, 7, 20, 13], [18, 17, 21, 2, 9], [12, 24, 11, 5, 22], [14, 3, 8, 10, 6], [16, 23, 15, 19, 0]]\n"
     ]
    }
   ],
   "source": [
    "#Create a origin-destination matrix of the distances between the cities\n",
    "#Note that the center diagonal is of 0's since the pair is origin i = destination j\n",
    "#First instance will be created with 5 cities\n",
    "import random\n",
    "def arrange(x, rows, cols):\n",
    "    random.shuffle(x)\n",
    "    return [x[cols * i : cols * (i + 1)] for i in range(rows)]\n",
    "origin_destination_matrix = (arrange(list(range(5*5)), 5, 5))\n",
    "print(origin_destination_matrix)"
   ]
  },
  {
   "cell_type": "code",
   "execution_count": 3,
   "id": "9a874d5f",
   "metadata": {},
   "outputs": [
    {
     "name": "stdout",
     "output_type": "stream",
     "text": [
      "Cities:  5\n",
      "Indexes:  range(0, 5)\n"
     ]
    }
   ],
   "source": [
    "#Create variables with the parameters of the matrix to work with\n",
    "cities = len(origin_destination_matrix)\n",
    "indexes = range(cities)\n",
    "print(\"Cities: \", cities)\n",
    "print(\"Indexes: \", indexes)"
   ]
  },
  {
   "cell_type": "code",
   "execution_count": 4,
   "id": "60811f7b",
   "metadata": {},
   "outputs": [],
   "source": [
    "#Create a list of all the coordinates combinations of the matrix, excluding the center diagonal of 0's\n",
    "E = [(i,j) for i in indexes for j in indexes if i!=j]"
   ]
  },
  {
   "cell_type": "code",
   "execution_count": 5,
   "id": "9b820a7e",
   "metadata": {},
   "outputs": [],
   "source": [
    "#Instruction for minimizing the problem\n",
    "m = LpProblem(\"TSP\",LpMinimize)"
   ]
  },
  {
   "cell_type": "code",
   "execution_count": 6,
   "id": "c65150f2",
   "metadata": {},
   "outputs": [],
   "source": [
    "#Create a dictionary of all coordinate pairs\n",
    "#Associate each pair with an X to assign 0 or 1 afterwards if the city will be chosen as part of the optimal route\n",
    "x = LpVariable.dicts('x',E,cat=LpBinary)"
   ]
  },
  {
   "cell_type": "code",
   "execution_count": 7,
   "id": "2edf6b31",
   "metadata": {},
   "outputs": [],
   "source": [
    "#Create the objective function of costs per each pair\n",
    "#The costs are the distances stated in the origin-destination matrix, excluding the diagonal\n",
    "m += sum([origin_destination_matrix[i][j]*x[(i,j)]for (i,j) in E])"
   ]
  },
  {
   "cell_type": "code",
   "execution_count": 8,
   "id": "00b31dd0",
   "metadata": {},
   "outputs": [],
   "source": [
    "#Create the constraints\n",
    "#It limits to a step size of 1, where from one origin, movement can only occur to one destination at a time\n",
    "#The function calculates each pair both back and forth \n",
    "for i in indexes:\n",
    "    m += sum([x[(i,j)] for j in indexes if i!=j]) == 1, \"One out of \"+str(i)\n",
    "    m += sum([x[(j,i)] for j in indexes if i!=j]) == 1, \"One in to \"+str(i)"
   ]
  },
  {
   "cell_type": "code",
   "execution_count": 9,
   "id": "51f3d687",
   "metadata": {},
   "outputs": [
    {
     "name": "stdout",
     "output_type": "stream",
     "text": [
      "- Optimal routes without eliminating subtours:\n",
      "Segments within route:  {(0, 1), (3, 4), (2, 0), (4, 2), (1, 3)}\n"
     ]
    }
   ],
   "source": [
    "#Instructions for preliminar solution of the system without adding the restriction of subtours\n",
    "m.solve()\n",
    "vobj = value(m.objective)\n",
    "xsol = {e:value(x[e]) for e in E}\n",
    "print(\"- Optimal routes without eliminating subtours:\")\n",
    "sol_summary={x for x,y in xsol.items() if y!=0}\n",
    "print(\"Segments within route: \", sol_summary)"
   ]
  },
  {
   "cell_type": "code",
   "execution_count": 10,
   "id": "210280f9",
   "metadata": {},
   "outputs": [],
   "source": [
    "#Find successive cities that have the shortest path between them\n",
    "def subtour(xsol):\n",
    "    succ = 0\n",
    "    subt = [succ]\n",
    "    while True:\n",
    "        succ = sum(xsol[succ,j]*j for j in indexes if j!=succ)\n",
    "        if succ == 0: break\n",
    "        subt.append(int(succ))\n",
    "    return subt"
   ]
  },
  {
   "cell_type": "code",
   "execution_count": 11,
   "id": "f3a2efe9",
   "metadata": {},
   "outputs": [
    {
     "name": "stdout",
     "output_type": "stream",
     "text": [
      "- Optimal tour excluding subtours\n",
      "Optimal tour found: [0, 1, 3, 4, 2]\n",
      "Optimal tour length: 36\n"
     ]
    }
   ],
   "source": [
    "#Iterate the previous definition to find all possible short subtours\n",
    "#The function will add more nodes as it runs out of shorter routes\n",
    "while True:\n",
    "    subt = subtour(xsol)\n",
    "    if len(subt) == cities:\n",
    "        print(\"- Optimal tour excluding subtours\")\n",
    "        print(\"Optimal tour found: %r\"%subt)\n",
    "        print(\"Optimal tour length: %g\"%vobj)\n",
    "        break\n",
    "    print(\"- Identify subtours\")\n",
    "    print(\"Subtour found: %r\"%subt)\n",
    "    m += sum([x[(i,j)] for i in subt for j in subt if i!=j])<= len(subt)-1\n",
    "    m.solve()\n",
    "    vobj = value(m.objective)\n",
    "    xsol = {e: value(x[e]) for e in E}"
   ]
  },
  {
   "cell_type": "markdown",
   "id": "b3fc838d",
   "metadata": {},
   "source": [
    "#### Solution for matrices from 6x6 to 15x15"
   ]
  },
  {
   "cell_type": "code",
   "execution_count": 13,
   "id": "fe1a7c38",
   "metadata": {},
   "outputs": [
    {
     "name": "stdout",
     "output_type": "stream",
     "text": [
      "===================================================================================================================\n",
      "Matrix =  6 x 6\n",
      "- Optimal routes without eliminating subtours:\n",
      "Segments within route:  {(4, 0), (1, 2), (0, 4), (5, 1), (2, 3), (3, 5)}\n",
      "- Identify subtours\n",
      "Subtour found: [0, 4]\n",
      "- Optimal tour excluding subtours\n",
      "Optimal tour found: [0, 4, 5, 1, 2, 3]\n",
      "Optimal tour length: 50\n",
      "===================================================================================================================\n",
      "Matrix =  7 x 7\n",
      "- Optimal routes without eliminating subtours:\n",
      "Segments within route:  {(2, 4), (6, 2), (5, 1), (3, 0), (0, 6), (4, 5), (1, 3)}\n",
      "- Optimal tour excluding subtours\n",
      "Optimal tour found: [0, 6, 2, 4, 5, 1, 3]\n",
      "Optimal tour length: 82\n",
      "===================================================================================================================\n",
      "Matrix =  8 x 8\n",
      "- Optimal routes without eliminating subtours:\n",
      "Segments within route:  {(7, 4), (3, 1), (2, 0), (5, 7), (0, 2), (4, 5), (1, 6), (6, 3)}\n",
      "- Identify subtours\n",
      "Subtour found: [0, 2]\n",
      "- Identify subtours\n",
      "Subtour found: [0, 5, 7, 4, 2]\n",
      "- Identify subtours\n",
      "Subtour found: [0, 7, 4, 5, 3, 2]\n",
      "- Identify subtours\n",
      "Subtour found: [0, 5, 7, 4]\n",
      "- Optimal tour excluding subtours\n",
      "Optimal tour found: [0, 7, 4, 5, 3, 2, 1, 6]\n",
      "Optimal tour length: 125\n",
      "===================================================================================================================\n",
      "Matrix =  9 x 9\n",
      "- Optimal routes without eliminating subtours:\n",
      "Segments within route:  {(0, 1), (4, 0), (1, 2), (2, 7), (6, 4), (3, 6), (5, 3), (8, 5), (7, 8)}\n",
      "- Optimal tour excluding subtours\n",
      "Optimal tour found: [0, 1, 2, 7, 8, 5, 3, 6, 4]\n",
      "Optimal tour length: 128\n",
      "===================================================================================================================\n",
      "Matrix =  10 x 10\n",
      "- Optimal routes without eliminating subtours:\n",
      "Segments within route:  {(0, 7), (7, 4), (9, 0), (1, 5), (4, 9), (8, 1), (5, 2), (3, 6), (6, 3), (2, 8)}\n",
      "- Identify subtours\n",
      "Subtour found: [0, 7, 4, 9]\n",
      "- Identify subtours\n",
      "Subtour found: [0, 7, 4, 6, 9]\n",
      "- Identify subtours\n",
      "Subtour found: [0, 2, 8, 1, 5, 3, 6, 9]\n",
      "- Optimal tour excluding subtours\n",
      "Optimal tour found: [0, 7, 4, 1, 5, 2, 8, 3, 6, 9]\n",
      "Optimal tour length: 167\n",
      "===================================================================================================================\n",
      "Matrix =  11 x 11\n",
      "- Optimal routes without eliminating subtours:\n",
      "Segments within route:  {(2, 4), (4, 0), (6, 5), (3, 1), (7, 10), (1, 8), (0, 9), (9, 2), (10, 7), (8, 6), (5, 3)}\n",
      "- Identify subtours\n",
      "Subtour found: [0, 9, 2, 4]\n",
      "- Optimal tour excluding subtours\n",
      "Optimal tour found: [0, 9, 2, 4, 3, 1, 8, 6, 5, 10, 7]\n",
      "Optimal tour length: 177\n",
      "===================================================================================================================\n",
      "Matrix =  12 x 12\n",
      "- Optimal routes without eliminating subtours:\n",
      "Segments within route:  {(10, 11), (8, 4), (7, 0), (2, 3), (3, 9), (6, 10), (0, 5), (1, 6), (11, 8), (9, 1), (4, 7), (5, 2)}\n",
      "- Optimal tour excluding subtours\n",
      "Optimal tour found: [0, 5, 2, 3, 9, 1, 6, 10, 11, 8, 4, 7]\n",
      "Optimal tour length: 218\n",
      "===================================================================================================================\n",
      "Matrix =  13 x 13\n",
      "- Optimal routes without eliminating subtours:\n",
      "Segments within route:  {(12, 11), (4, 0), (1, 2), (6, 5), (8, 1), (10, 4), (2, 10), (11, 3), (7, 12), (3, 6), (5, 9), (0, 8), (9, 7)}\n",
      "- Identify subtours\n",
      "Subtour found: [0, 8, 1, 2, 10, 4]\n",
      "- Identify subtours\n",
      "Subtour found: [0, 1, 2, 10, 4]\n",
      "- Identify subtours\n",
      "Subtour found: [0, 8, 9, 7, 1, 2, 10, 4]\n",
      "- Identify subtours\n",
      "Subtour found: [0, 2, 10, 4, 12, 11, 3, 6, 5, 8, 1]\n",
      "- Identify subtours\n",
      "Subtour found: [0, 8, 1]\n",
      "- Optimal tour excluding subtours\n",
      "Optimal tour found: [0, 2, 10, 4, 12, 11, 3, 6, 5, 8, 9, 7, 1]\n",
      "Optimal tour length: 272\n",
      "===================================================================================================================\n",
      "Matrix =  14 x 14\n",
      "- Optimal routes without eliminating subtours:\n",
      "Segments within route:  {(11, 7), (6, 0), (13, 4), (10, 9), (4, 3), (0, 13), (2, 12), (1, 10), (5, 6), (7, 8), (8, 2), (12, 11), (9, 1), (3, 5)}\n",
      "- Identify subtours\n",
      "Subtour found: [0, 13, 4, 3, 5, 6]\n",
      "- Identify subtours\n",
      "Subtour found: [0, 13, 4, 3, 1, 10, 9, 5, 6]\n",
      "- Identify subtours\n",
      "Subtour found: [0, 5, 6]\n",
      "- Identify subtours\n",
      "Subtour found: [0, 1, 10, 9, 2, 12, 13, 4, 3, 5, 6]\n",
      "- Optimal tour excluding subtours\n",
      "Optimal tour found: [0, 1, 10, 9, 8, 11, 7, 2, 12, 13, 4, 3, 5, 6]\n",
      "Optimal tour length: 273\n",
      "===================================================================================================================\n",
      "Matrix =  15 x 15\n",
      "- Optimal routes without eliminating subtours:\n",
      "Segments within route:  {(0, 7), (6, 2), (13, 14), (9, 13), (14, 4), (10, 8), (1, 11), (2, 10), (12, 0), (11, 12), (7, 6), (3, 9), (5, 3), (4, 1), (8, 5)}\n",
      "- Optimal tour excluding subtours\n",
      "Optimal tour found: [0, 7, 6, 2, 10, 8, 5, 3, 9, 13, 14, 4, 1, 11, 12]\n",
      "Optimal tour length: 284\n"
     ]
    }
   ],
   "source": [
    "def arrange(x, rows, cols):\n",
    "    random.shuffle(x)\n",
    "    return [x[cols * i : cols * (i + 1)] for i in range(rows)]\n",
    "def subtour(xsol):\n",
    "    succ = 0\n",
    "    subt = [succ]\n",
    "    while True:\n",
    "        succ = sum(xsol[succ,j]*j for j in indexes if j!=succ)\n",
    "        if succ == 0: break\n",
    "        subt.append(int(succ))\n",
    "    return subt\n",
    "for index in range(6,16):\n",
    "    print(\"===================================================================================================================\")\n",
    "    print(\"Matrix = \", index, \"x\", index)\n",
    "    origin_destination_matrix = (arrange(list(range(index*index)), index, index))\n",
    "    cities = len(origin_destination_matrix)\n",
    "    indexes = range(cities)\n",
    "    E = [(i,j) for i in indexes for j in indexes if i!=j]\n",
    "    m = LpProblem(\"TSP\",LpMinimize)\n",
    "    x = LpVariable.dicts('x',E,cat=LpBinary)\n",
    "    m += sum([origin_destination_matrix[i][j]*x[(i,j)]for (i,j) in E])\n",
    "    for i in indexes:\n",
    "        m += sum([x[(i,j)] for j in indexes if i!=j]) == 1, \"One out of \"+str(i)\n",
    "        m += sum([x[(j,i)] for j in indexes if i!=j]) == 1, \"One in to \"+str(i)\n",
    "    m.solve()\n",
    "    vobj = value(m.objective)\n",
    "    xsol = {e:value(x[e]) for e in E}\n",
    "    print(\"- Optimal routes without eliminating subtours:\")\n",
    "    sol_summary={x for x,y in xsol.items() if y!=0}\n",
    "    print(\"Segments within route: \", sol_summary)\n",
    "\n",
    "    while True:\n",
    "        subt = subtour(xsol)\n",
    "        if len(subt) == cities:\n",
    "            print(\"- Optimal tour excluding subtours\")\n",
    "            print(\"Optimal tour found: %r\"%subt)\n",
    "            print(\"Optimal tour length: %g\"%vobj)\n",
    "            break\n",
    "        print(\"- Identify subtours\")\n",
    "        print(\"Subtour found: %r\"%subt)\n",
    "        m += sum([x[(i,j)] for i in subt for j in subt if i!=j])<= len(subt)-1\n",
    "        m.solve()\n",
    "        vobj = value(m.objective)\n",
    "        xsol = {e: value(x[e]) for e in E}"
   ]
  }
 ],
 "metadata": {
  "kernelspec": {
   "display_name": "Python 3 (ipykernel)",
   "language": "python",
   "name": "python3"
  },
  "language_info": {
   "codemirror_mode": {
    "name": "ipython",
    "version": 3
   },
   "file_extension": ".py",
   "mimetype": "text/x-python",
   "name": "python",
   "nbconvert_exporter": "python",
   "pygments_lexer": "ipython3",
   "version": "3.9.7"
  }
 },
 "nbformat": 4,
 "nbformat_minor": 5
}
