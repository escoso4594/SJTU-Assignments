{
 "cells": [
  {
   "cell_type": "markdown",
   "id": "0b4316cf",
   "metadata": {},
   "source": [
    "# ASSIGNMENT 1 - EXCERCISE 1"
   ]
  },
  {
   "cell_type": "markdown",
   "id": "8eb7366e",
   "metadata": {},
   "source": [
    "### Determine how much of a product should be produced to maximize the profit"
   ]
  },
  {
   "cell_type": "code",
   "execution_count": 1,
   "id": "56d922e7",
   "metadata": {},
   "outputs": [],
   "source": [
    "#Import library\n",
    "from pulp import *"
   ]
  },
  {
   "cell_type": "code",
   "execution_count": 2,
   "id": "819884f7",
   "metadata": {},
   "outputs": [],
   "source": [
    "#Definition of suppliers\n",
    "#In this case, suppliers are the three machines\n",
    "#Milling machine: A, Lathe: B, Grinder: C\n",
    "Machines = [\"A\",\"B\",\"C\"]"
   ]
  },
  {
   "cell_type": "code",
   "execution_count": 3,
   "id": "80adb43c",
   "metadata": {},
   "outputs": [],
   "source": [
    "#Definition of the variable to be maximized\n",
    "#In this case, products are the variables to be maximized\n",
    "Products = [\"1\",\"2\",\"3\"]"
   ]
  },
  {
   "cell_type": "code",
   "execution_count": 4,
   "id": "e4129631",
   "metadata": {},
   "outputs": [],
   "source": [
    "#Definition of supply of products per machine\n",
    "supply = {\"A\":500,\"B\":350, \"C\":150}"
   ]
  },
  {
   "cell_type": "code",
   "execution_count": 5,
   "id": "cdcfeacc",
   "metadata": {},
   "outputs": [],
   "source": [
    "#Definition of profits per product to maximize\n",
    "profits = [[50],[20],[25]]"
   ]
  },
  {
   "cell_type": "code",
   "execution_count": 6,
   "id": "ca4d8a52",
   "metadata": {},
   "outputs": [],
   "source": [
    "#Definition of demand\n",
    "#In this case, the demand is the sales potential per product, per week\n",
    "#Demand of product 1 is that of maximum possible production when all machines are used together for it: 500/9 + 350/5 + 150/3\n",
    "#Demand of product 2 is that of maximum possible production when all machines are used together for it: 500/3 + 350/4\n",
    "demand = {\"1\":175,\"2\":254,\"3\":20}"
   ]
  },
  {
   "cell_type": "code",
   "execution_count": 7,
   "id": "0a3eeebd",
   "metadata": {},
   "outputs": [],
   "source": [
    "#Associate profits list to each product\n",
    "profits = makeDict([Machines,Products],profits,0)"
   ]
  },
  {
   "cell_type": "code",
   "execution_count": 8,
   "id": "6ee5cb82",
   "metadata": {},
   "outputs": [],
   "source": [
    "#Instruction for maximizing the linear arrangement\n",
    "prob = LpProblem(\"Production_Problem\",LpMaximize)"
   ]
  },
  {
   "cell_type": "code",
   "execution_count": 9,
   "id": "3a793c86",
   "metadata": {},
   "outputs": [
    {
     "name": "stdout",
     "output_type": "stream",
     "text": [
      "[('A', '1'), ('A', '2'), ('A', '3'), ('B', '1'), ('B', '2'), ('B', '3'), ('C', '1'), ('C', '2'), ('C', '3')]\n"
     ]
    }
   ],
   "source": [
    "#Create combinations of type of product per machine\n",
    "Production = [(m,p) for m in Machines for p in Products]\n",
    "print (Production)"
   ]
  },
  {
   "cell_type": "code",
   "execution_count": 10,
   "id": "958b32c4",
   "metadata": {},
   "outputs": [
    {
     "name": "stdout",
     "output_type": "stream",
     "text": [
      "{'A': {'1': Production_A_1, '2': Production_A_2, '3': Production_A_3}, 'B': {'1': Production_B_1, '2': Production_B_2, '3': Production_B_3}, 'C': {'1': Production_C_1, '2': Production_C_2, '3': Production_C_3}}\n"
     ]
    }
   ],
   "source": [
    "#Create a dictionary to associate the products made per each machine\n",
    "#0 is the lowest limit of products made per machine and all results are integers\n",
    "vars = LpVariable.dicts(\"Production\",(Machines,Products),0,None,LpInteger)\n",
    "print (vars)"
   ]
  },
  {
   "cell_type": "code",
   "execution_count": 11,
   "id": "776a32d1",
   "metadata": {},
   "outputs": [],
   "source": [
    "#Create the objective function by adding the profit per product\n",
    "prob += lpSum([vars[m][p]*profits[m][p] for (m,p) in Production]),\"Sum_of_Profits\""
   ]
  },
  {
   "cell_type": "code",
   "execution_count": 12,
   "id": "cb8f627c",
   "metadata": {},
   "outputs": [
    {
     "name": "stdout",
     "output_type": "stream",
     "text": [
      "Production_Problem:\n",
      "MAXIMIZE\n",
      "50*Production_A_1 + 20*Production_B_1 + 25*Production_C_1 + 0\n",
      "SUBJECT TO\n",
      "Sum_of_Products_out_of_Machine_A: Production_A_1 + Production_A_2\n",
      " + Production_A_3 <= 500\n",
      "\n",
      "Sum_of_Products_out_of_Machine_B: Production_B_1 + Production_B_2\n",
      " + Production_B_3 <= 350\n",
      "\n",
      "Sum_of_Products_out_of_Machine_C: Production_C_1 + Production_C_2\n",
      " + Production_C_3 <= 150\n",
      "\n",
      "Sum_of_Sold_Products1: Production_A_1 + Production_B_1 + Production_C_1 >= 175\n",
      "\n",
      "Sum_of_Sold_Products2: Production_A_2 + Production_B_2 + Production_C_2 >= 254\n",
      "\n",
      "Sum_of_Sold_Products3: Production_A_3 + Production_B_3 + Production_C_3 >= 20\n",
      "\n",
      "VARIABLES\n",
      "0 <= Production_A_1 Integer\n",
      "0 <= Production_A_2 Integer\n",
      "0 <= Production_A_3 Integer\n",
      "0 <= Production_B_1 Integer\n",
      "0 <= Production_B_2 Integer\n",
      "0 <= Production_B_3 Integer\n",
      "0 <= Production_C_1 Integer\n",
      "0 <= Production_C_2 Integer\n",
      "0 <= Production_C_3 Integer\n",
      "\n"
     ]
    }
   ],
   "source": [
    "#Formulation of the problem: objective function, constraints, definition of variables\n",
    "for m in Machines:\n",
    "    prob += lpSum([vars[m][p] for p in Products])<=supply[m],\"Sum_of_Products_out_of_Machine_%s\"%m\n",
    "for p in Products:\n",
    "    prob += lpSum([vars[m][p] for m in Machines])>=demand[p],\"Sum_of_Sold_Products%s\"%p\n",
    "print (prob)"
   ]
  },
  {
   "cell_type": "code",
   "execution_count": 13,
   "id": "fc78d4bf",
   "metadata": {},
   "outputs": [
    {
     "name": "stdout",
     "output_type": "stream",
     "text": [
      "Status: Optimal\n",
      "Number of products 1 =  726.0\n",
      "Number of products 2 =  254.0\n",
      "Number of products 3 =  20.0\n",
      "Total Profits per week = $ 30270.0\n"
     ]
    }
   ],
   "source": [
    "#Solve the optimization problem\n",
    "#Find the number of products per machine, the overall number of products and the total profit\n",
    "prob.solve()\n",
    "print(\"Status:\",LpStatus[prob.status])\n",
    "Product_1 = 0\n",
    "Product_2 = 0\n",
    "Product_3 = 0\n",
    "for i in range(len(Products)):\n",
    "    Product_1 += prob.variables()[i*3].varValue\n",
    "    Product_2 += prob.variables()[i*3+1].varValue\n",
    "    Product_3 += prob.variables()[i*3+2].varValue\n",
    "print(\"Number of products 1 = \",Product_1)\n",
    "print(\"Number of products 2 = \",Product_2)\n",
    "print(\"Number of products 3 = \",Product_3)\n",
    "print(\"Total Profits per week = $\",value(prob.objective))"
   ]
  },
  {
   "cell_type": "code",
   "execution_count": 15,
   "id": "3057fcb0",
   "metadata": {},
   "outputs": [
    {
     "name": "stdout",
     "output_type": "stream",
     "text": [
      "Production_A_1 = 500.0\n",
      "Production_A_2 = 0.0\n",
      "Production_A_3 = 0.0\n",
      "Production_B_1 = 76.0\n",
      "Production_B_2 = 254.0\n",
      "Production_B_3 = 20.0\n",
      "Production_C_1 = 150.0\n",
      "Production_C_2 = 0.0\n",
      "Production_C_3 = 0.0\n"
     ]
    }
   ],
   "source": [
    "#To know in detail from which machine each product was made, the following code shows the result of each combination pair\n",
    "#of machine-product\n",
    "for v in prob.variables():\n",
    "    print(v.name, \"=\", v.varValue)"
   ]
  },
  {
   "cell_type": "code",
   "execution_count": 16,
   "id": "261fa084",
   "metadata": {},
   "outputs": [],
   "source": [
    "#We conclude that product 1 was made in all machines. Machine A produced 500 units, machine B produced 76 units and machine C\n",
    "#produced 150 units.\n",
    "#Product 2 was made solely in machine B and product 3 only in machine C. "
   ]
  }
 ],
 "metadata": {
  "kernelspec": {
   "display_name": "Python 3 (ipykernel)",
   "language": "python",
   "name": "python3"
  },
  "language_info": {
   "codemirror_mode": {
    "name": "ipython",
    "version": 3
   },
   "file_extension": ".py",
   "mimetype": "text/x-python",
   "name": "python",
   "nbconvert_exporter": "python",
   "pygments_lexer": "ipython3",
   "version": "3.9.7"
  }
 },
 "nbformat": 4,
 "nbformat_minor": 5
}
